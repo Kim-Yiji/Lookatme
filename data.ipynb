{
 "cells": [
  {
   "cell_type": "markdown",
   "id": "0d760ffd",
   "metadata": {},
   "source": [
    "## 공공데이터포털 지하안전 데이터"
   ]
  },
  {
   "cell_type": "code",
   "execution_count": 41,
   "id": "1cbda985",
   "metadata": {},
   "outputs": [],
   "source": [
    "from tqdm import tqdm\n",
    "import time\n",
    "import requests\n",
    "import json\n",
    "import os\n",
    "\n",
    "SERVICE_KEY = \"48RysNl1ik0Yayfh1ih7lOwKPbSQmus+nhN76dcuw/5LSr4uXnBrSZEPYq5QsUWf/37wyPGCbmOawE5X2mMeBw==\"\n",
    "BASE_URL = \"https://apis.data.go.kr/1611000/undergroundsafetyinfo\"\n",
    "\n",
    "def call_api_to_file(endpoint: str, output_filename: str, custom_params: dict):\n",
    "    params = {\n",
    "        \"serviceKey\": SERVICE_KEY,\n",
    "        \"pageNo\": \"1\",\n",
    "        \"numOfRows\": \"1000\",\n",
    "        \"type\": \"json\"\n",
    "    }\n",
    "    params.update(custom_params)\n",
    "    url = f\"{BASE_URL}/{endpoint}\"\n",
    "\n",
    "    # tqdm bar for a single task\n",
    "    with tqdm(total=1, desc=f\"📡 {output_filename}\", bar_format=\"{l_bar}{bar} {elapsed}s\") as pbar:\n",
    "        try:\n",
    "            response = requests.get(url, params=params)\n",
    "            data = response.json()\n",
    "\n",
    "            os.makedirs(\"Database/openapi/test\", exist_ok=True)\n",
    "            with open(f\"Database/openapi/test/{output_filename}.json\", \"w\", encoding=\"utf-8\") as f:\n",
    "                json.dump(data, f, ensure_ascii=False, indent=2)\n",
    "\n",
    "            pbar.update(1)\n",
    "            print(f\"✅ 저장 완료: {output_filename}.json\")\n",
    "            return \"\"\n",
    "        except Exception as e:\n",
    "            pbar.update(1)\n",
    "            print(f\"❌ 오류 발생: {e}\")\n",
    "            return f\"❌ 오류 발생: {e}\""
   ]
  },
  {
   "cell_type": "code",
   "execution_count": 42,
   "id": "a0408217",
   "metadata": {},
   "outputs": [],
   "source": [
    "def get_impat_evaluation_list(start_date: str, end_date: str):\n",
    "    return call_api_to_file(\"getImpatEvalutionList\", \"지하안전평가_리스트\", {\n",
    "        \"sysRegDateFrom\": start_date,\n",
    "        \"sysRegDateTo\": end_date\n",
    "    })\n",
    "\n",
    "def get_impat_evaluation_info(eval_no: str):\n",
    "    return call_api_to_file(\"getImpatEvalutionInfo\", \"지하안전평가_정보\", {\n",
    "        \"evalNo\": eval_no\n",
    "    })\n",
    "\n",
    "def get_small_impat_evaluation_list(start_date: str, end_date: str):\n",
    "    return call_api_to_file(\"getSmallImpactEvalutionList\", \"소규모지하안전평가_리스트\", {\n",
    "        \"sysRegDateFrom\": start_date,\n",
    "        \"sysRegDateTo\": end_date\n",
    "    })\n",
    "\n",
    "def get_small_impat_evaluation_info(eval_no: str):\n",
    "    return call_api_to_file(\"getSmallImpactEvalutionInfo\", \"소규모지하안전평가_정보\", {\n",
    "        \"evalNo\": eval_no\n",
    "    })\n",
    "\n",
    "def get_post_construction_check_list(start_date: str, end_date: str):\n",
    "    return call_api_to_file(\"getAfterUndergroundSafetyInspectionList\", \"착공후지하안전조사_리스트\", {\n",
    "        \"sysRegDateFrom\": start_date,\n",
    "        \"sysRegDateTo\": end_date\n",
    "    })\n",
    "\n",
    "def get_post_construction_check_info(eval_no: str):\n",
    "    return call_api_to_file(\"getAfterUndergroundSafetyInspectionInfo\", \"착공후지하안전조사_정보\", {\n",
    "        \"evalNo\": eval_no\n",
    "    })\n",
    "\n",
    "def get_underground_facility_list(start_ymd: str, end_ymd: str):\n",
    "    return call_api_to_file(\"getUndergroundUtilityList\", \"안전점검대상_지하시설물_리스트\", {\n",
    "        \"startYmd\": start_ymd,\n",
    "        \"endYmd\": end_ymd\n",
    "    })\n",
    "\n",
    "def get_underground_facility_info(facility_no: str):\n",
    "    return call_api_to_file(\"getUndergroundUtilityInfo\", \"안전점검대상_지하시설물_정보\", {\n",
    "        \"facilNo\": facility_no\n",
    "    })\n",
    "\n",
    "def get_underground_facility_result(facility_no: str):\n",
    "    return call_api_to_file(\"getUndergroundUtilityResult\", \"안전점검대상_지하시설물_점검결과\", {\n",
    "        \"facilNo\": facility_no\n",
    "    })\n",
    "\n",
    "def get_risk_assessment_list(start_ymd: str, end_ymd: str):\n",
    "    return call_api_to_file(\"getSubsidenceEvalutionList\", \"지반침하위험도평가_리스트\", {\n",
    "        \"startYmd\": start_ymd,\n",
    "        \"endYmd\": end_ymd\n",
    "    })\n",
    "\n",
    "def get_risk_safety_info(eval_no: str):\n",
    "    return call_api_to_file(\"getSubsidenceResult\", \"지반침하_안전조치내용\", {\n",
    "        \"evalNo\": eval_no\n",
    "    })\n",
    "\n",
    "def get_risk_emergency_info(eval_no: str):\n",
    "    return call_api_to_file(\"getSubsidenceExpediency\", \"지반침하_응급조치내용\", {\n",
    "        \"evalNo\": eval_no\n",
    "    })\n",
    "\n",
    "def get_priority_control_list(start_date: str, end_date: str):\n",
    "    return call_api_to_file(\"getPriorityControlTargetList\", \"중점관리대상_리스트\", {\n",
    "        \"heavyYmdFrom\": start_date,\n",
    "        \"heavyYmdTo\": end_date\n",
    "    })\n",
    "\n",
    "def get_priority_control_info(control_no: str, heavy_ymd: str):\n",
    "    return call_api_to_file(\"getPriorityControlTargetInfo\", \"중점관리대상_정보\", {\n",
    "        \"facilNo\": control_no,\n",
    "        \"heavyYmd\": heavy_ymd\n",
    "    })\n",
    "\n",
    "def get_subsidence_accident_list(start_date: str, end_date: str):#, lon: str, lat: str, buffer_km: str):\n",
    "    return call_api_to_file(\"getSubsidenceList\", \"지반침하사고_리스트\", {\n",
    "        \"sagoDateFrom\": start_date,\n",
    "        \"sagoDateTo\": end_date,\n",
    "        # \"geomLon\": lon,\n",
    "        # \"geomLat\": lat,\n",
    "        # \"buffer\": buffer_km\n",
    "    })\n",
    "\n",
    "def get_subsidence_accident_info(accident_no: str):\n",
    "    return call_api_to_file(\"getSubsidenceInfo\", \"지반침하사고_정보\", {\n",
    "        \"sagoNo\": accident_no\n",
    "    })\n",
    "\n",
    "def get_agency_list(start_date: str, end_date: str):\n",
    "    return call_api_to_file(\"getProfessionalInstituionList\", \"전문기관_리스트\", {\n",
    "        \"entryYmdFrom\": start_date,\n",
    "        \"entryYmdTo\": end_date\n",
    "    })\n",
    "\n",
    "def get_agency_info(corp_cd: str):\n",
    "    return call_api_to_file(\"getProfessionalInstituionInfo\", \"전문기관_정보\", {\n",
    "        \"corpCd\": corp_cd\n",
    "    })\n",
    "\n",
    "def get_agency_results(corp_cd: str):\n",
    "    return call_api_to_file(\"getProfessionalInstituionresultInfo\", \"전문기관_실적\", {\n",
    "        \"corpCd\": corp_cd\n",
    "    })\n",
    "\n",
    "def get_underground_project_list(start_date: str, end_date: str):#, lon: str, lat: str, buffer_km: str):\n",
    "    return call_api_to_file(\"getUndergroundDevelopementProjectList\", \"지하개발사업_리스트\", {\n",
    "        \"staPlanYmdFrom\": start_date,\n",
    "        \"staPlanYmdTo\": end_date,\n",
    "        # \"geomLon\": lon,\n",
    "        # \"geomLat\": lat,\n",
    "        # \"buffer\": buffer_km\n",
    "    })\n",
    "\n",
    "def get_underground_project_info(project_no: str):\n",
    "    return call_api_to_file(\"getUndergroundDevelopementProjectInfo\", \"지하개발사업_정보\", {\n",
    "        \"saupNo\": project_no\n",
    "    })"
   ]
  },
  {
   "cell_type": "markdown",
   "id": "0b85ad62",
   "metadata": {},
   "source": [
    "## 실행"
   ]
  },
  {
   "cell_type": "code",
   "execution_count": 43,
   "id": "f3ff8677",
   "metadata": {},
   "outputs": [
    {
     "name": "stderr",
     "output_type": "stream",
     "text": [
      "📡 지하안전평가_리스트: 100%|██████████ 00:00s\n"
     ]
    },
    {
     "name": "stdout",
     "output_type": "stream",
     "text": [
      "✅ 저장 완료: 지하안전평가_리스트.json\n"
     ]
    },
    {
     "name": "stderr",
     "output_type": "stream",
     "text": [
      "📡 지하안전평가_정보: 100%|██████████ 00:00s\n"
     ]
    },
    {
     "name": "stdout",
     "output_type": "stream",
     "text": [
      "✅ 저장 완료: 지하안전평가_정보.json\n"
     ]
    },
    {
     "name": "stderr",
     "output_type": "stream",
     "text": [
      "📡 소규모지하안전평가_리스트: 100%|██████████ 00:00s\n"
     ]
    },
    {
     "name": "stdout",
     "output_type": "stream",
     "text": [
      "✅ 저장 완료: 소규모지하안전평가_리스트.json\n"
     ]
    },
    {
     "name": "stderr",
     "output_type": "stream",
     "text": [
      "📡 소규모지하안전평가_정보: 100%|██████████ 00:00s\n"
     ]
    },
    {
     "name": "stdout",
     "output_type": "stream",
     "text": [
      "✅ 저장 완료: 소규모지하안전평가_정보.json\n"
     ]
    },
    {
     "name": "stderr",
     "output_type": "stream",
     "text": [
      "📡 착공후지하안전조사_리스트: 100%|██████████ 00:00s\n"
     ]
    },
    {
     "name": "stdout",
     "output_type": "stream",
     "text": [
      "✅ 저장 완료: 착공후지하안전조사_리스트.json\n"
     ]
    },
    {
     "name": "stderr",
     "output_type": "stream",
     "text": [
      "📡 착공후지하안전조사_정보: 100%|██████████ 00:00s\n"
     ]
    },
    {
     "name": "stdout",
     "output_type": "stream",
     "text": [
      "✅ 저장 완료: 착공후지하안전조사_정보.json\n"
     ]
    },
    {
     "name": "stderr",
     "output_type": "stream",
     "text": [
      "📡 안전점검대상_지하시설물_리스트: 100%|██████████ 00:00s\n"
     ]
    },
    {
     "name": "stdout",
     "output_type": "stream",
     "text": [
      "✅ 저장 완료: 안전점검대상_지하시설물_리스트.json\n"
     ]
    },
    {
     "name": "stderr",
     "output_type": "stream",
     "text": [
      "📡 안전점검대상_지하시설물_정보: 100%|██████████ 00:00s\n"
     ]
    },
    {
     "name": "stdout",
     "output_type": "stream",
     "text": [
      "✅ 저장 완료: 안전점검대상_지하시설물_정보.json\n"
     ]
    },
    {
     "name": "stderr",
     "output_type": "stream",
     "text": [
      "📡 안전점검대상_지하시설물_점검결과: 100%|██████████ 00:00s\n"
     ]
    },
    {
     "name": "stdout",
     "output_type": "stream",
     "text": [
      "✅ 저장 완료: 안전점검대상_지하시설물_점검결과.json\n"
     ]
    },
    {
     "name": "stderr",
     "output_type": "stream",
     "text": [
      "📡 지반침하위험도평가_리스트: 100%|██████████ 00:00s\n"
     ]
    },
    {
     "name": "stdout",
     "output_type": "stream",
     "text": [
      "✅ 저장 완료: 지반침하위험도평가_리스트.json\n"
     ]
    },
    {
     "name": "stderr",
     "output_type": "stream",
     "text": [
      "📡 지반침하_안전조치내용: 100%|██████████ 00:00s\n"
     ]
    },
    {
     "name": "stdout",
     "output_type": "stream",
     "text": [
      "✅ 저장 완료: 지반침하_안전조치내용.json\n"
     ]
    },
    {
     "name": "stderr",
     "output_type": "stream",
     "text": [
      "📡 지반침하_응급조치내용: 100%|██████████ 00:00s\n"
     ]
    },
    {
     "name": "stdout",
     "output_type": "stream",
     "text": [
      "✅ 저장 완료: 지반침하_응급조치내용.json\n"
     ]
    },
    {
     "name": "stderr",
     "output_type": "stream",
     "text": [
      "📡 중점관리대상_리스트: 100%|██████████ 00:00s\n"
     ]
    },
    {
     "name": "stdout",
     "output_type": "stream",
     "text": [
      "✅ 저장 완료: 중점관리대상_리스트.json\n"
     ]
    },
    {
     "name": "stderr",
     "output_type": "stream",
     "text": [
      "📡 중점관리대상_정보: 100%|██████████ 00:00s\n"
     ]
    },
    {
     "name": "stdout",
     "output_type": "stream",
     "text": [
      "✅ 저장 완료: 중점관리대상_정보.json\n"
     ]
    },
    {
     "name": "stderr",
     "output_type": "stream",
     "text": [
      "📡 지반침하사고_리스트: 100%|██████████ 00:00s\n"
     ]
    },
    {
     "name": "stdout",
     "output_type": "stream",
     "text": [
      "✅ 저장 완료: 지반침하사고_리스트.json\n"
     ]
    },
    {
     "name": "stderr",
     "output_type": "stream",
     "text": [
      "📡 지반침하사고_정보: 100%|██████████ 00:00s\n"
     ]
    },
    {
     "name": "stdout",
     "output_type": "stream",
     "text": [
      "✅ 저장 완료: 지반침하사고_정보.json\n"
     ]
    },
    {
     "name": "stderr",
     "output_type": "stream",
     "text": [
      "📡 전문기관_리스트: 100%|██████████ 00:00s\n"
     ]
    },
    {
     "name": "stdout",
     "output_type": "stream",
     "text": [
      "✅ 저장 완료: 전문기관_리스트.json\n"
     ]
    },
    {
     "name": "stderr",
     "output_type": "stream",
     "text": [
      "📡 전문기관_정보: 100%|██████████ 00:00s\n"
     ]
    },
    {
     "name": "stdout",
     "output_type": "stream",
     "text": [
      "✅ 저장 완료: 전문기관_정보.json\n"
     ]
    },
    {
     "name": "stderr",
     "output_type": "stream",
     "text": [
      "📡 전문기관_실적: 100%|██████████ 00:00s\n"
     ]
    },
    {
     "name": "stdout",
     "output_type": "stream",
     "text": [
      "✅ 저장 완료: 전문기관_실적.json\n"
     ]
    },
    {
     "name": "stderr",
     "output_type": "stream",
     "text": [
      "📡 지하개발사업_리스트: 100%|██████████ 00:00s\n"
     ]
    },
    {
     "name": "stdout",
     "output_type": "stream",
     "text": [
      "✅ 저장 완료: 지하개발사업_리스트.json\n"
     ]
    },
    {
     "name": "stderr",
     "output_type": "stream",
     "text": [
      "📡 지하개발사업_정보: 100%|██████████ 00:00s"
     ]
    },
    {
     "name": "stdout",
     "output_type": "stream",
     "text": [
      "✅ 저장 완료: 지하개발사업_정보.json\n"
     ]
    },
    {
     "name": "stderr",
     "output_type": "stream",
     "text": [
      "\n"
     ]
    },
    {
     "data": {
      "text/plain": [
       "''"
      ]
     },
     "execution_count": 43,
     "metadata": {},
     "output_type": "execute_result"
    }
   ],
   "source": [
    "# ✅ 지하안전평가\n",
    "get_impat_evaluation_list(\"20210101\", \"20211011\")  # 리스트 조회\n",
    "get_impat_evaluation_info(\"E10091000030\")  # 상세 조회\n",
    "\n",
    "# ✅ 소규모 지하안전평가\n",
    "get_small_impat_evaluation_list(\"20210101\", \"20211011\")  # 리스트 조회\n",
    "get_small_impat_evaluation_info(\"E10132000007\")  # 상세 조회\n",
    "\n",
    "# ✅ 착공 후 지하안전조사\n",
    "get_post_construction_check_list(\"20210101\", \"20211011\")  # 리스트 조회\n",
    "get_post_construction_check_info(\"E00017000038\")  # 상세 조회\n",
    "\n",
    "# ✅ 안전점검대상 지하시설물\n",
    "get_underground_facility_list(\"20210101\", \"20211011\")  # 리스트 조회\n",
    "get_underground_facility_info(\"ELE2015-000008\")  # 상세 조회\n",
    "get_underground_facility_result(\"ELE2015-000008\")  # 점검 결과 조회\n",
    "\n",
    "# ✅ 지반침하위험도평가\n",
    "get_risk_assessment_list(\"20210101\", \"20211011\")  # 리스트 조회\n",
    "get_risk_safety_info(\"E00098000019\")  # 안전조치내용 조회\n",
    "get_risk_emergency_info(\"E00098000019\")  # 응급조치내용 조회\n",
    "\n",
    "# ✅ 중점관리대상 : 제공 안하는 듯\n",
    "get_priority_control_list(\"20210101\", \"20211011\")  # 리스트 조회\n",
    "get_priority_control_info(\"GAS1900-000001\", \"20210101\")  # 상세 조회\n",
    "\n",
    "# ✅ 지반침하사고\n",
    "get_subsidence_accident_list(\"20210101\", \"20211011\")#, \"126.9780\", \"37.5665\", \"5\")  # 리스트 조회\n",
    "get_subsidence_accident_info(\"20220138\")  # 상세 조회\n",
    "\n",
    "# ✅ 전문기관\n",
    "get_agency_list(\"20191017\", \"20191117\")  # 리스트 조회\n",
    "get_agency_info(\"E00010\")  # 상세 조회\n",
    "get_agency_results(\"E00010\")  # 실적 조회\n",
    "\n",
    "# ✅ 지하개발사업\n",
    "get_underground_project_list(\"20210101\", \"20211011\")# , \"126.9780\", \"37.5665\", \"5\")  # 리스트 조회\n",
    "get_underground_project_info(\"20190072\")  # 상세 조회"
   ]
  },
  {
   "cell_type": "markdown",
   "id": "32ba4e05",
   "metadata": {},
   "source": [
    "## 개수 확인"
   ]
  },
  {
   "cell_type": "code",
   "execution_count": 44,
   "id": "81ed60f1",
   "metadata": {},
   "outputs": [],
   "source": [
    "endpoint_names = {\n",
    "    \"getImpatEvalutionList\": \"지하안전평가 리스트\",\n",
    "    \"getSmallImpactEvalutionList\": \"소규모 지하안전평가 리스트\",\n",
    "    \"getAfterUndergroundSafetyInspectionList\": \"착공 후 지하안전조사 리스트\",\n",
    "    \"getUndergroundUtilityList\": \"안전점검대상 지하시설물 리스트\",\n",
    "    \"getSubsidenceEvalutionList\": \"지반침하위험도평가 리스트\",\n",
    "    \"getPriorityControlTargetList\": \"중점관리대상 리스트\",\n",
    "    \"getSubsidenceList\": \"지반침하사고 리스트\",\n",
    "    \"getProfessionalInstituionList\": \"전문기관 리스트\",\n",
    "    \"getUndergroundDevelopementProjectList\": \"지하개발사업 리스트\"\n",
    "}\n",
    "\n",
    "def get_total_pages(endpoint: str, params: dict, rows_per_page: int = 1000) -> int:\n",
    "    full_params = {\n",
    "        \"serviceKey\": SERVICE_KEY,\n",
    "        \"pageNo\": 1,\n",
    "        \"numOfRows\": 1,\n",
    "        \"type\": \"json\"\n",
    "    }\n",
    "    full_params.update(params)\n",
    "\n",
    "    try:\n",
    "        response = requests.get(f\"{BASE_URL}/{endpoint}\", params=full_params)\n",
    "        response.raise_for_status()\n",
    "        data = response.json()\n",
    "        total_count = int(data[\"response\"][\"totalCount\"])\n",
    "        total_pages = math.ceil(total_count / rows_per_page)\n",
    "        endpoint_label = endpoint_names.get(endpoint, endpoint)\n",
    "        print(f\"📊 [{endpoint_label}] 전체 데이터 수: {total_count}개 → 총 {total_pages} 페이지 예상 (페이지당 {rows_per_page}개)\")\n",
    "        return total_pages\n",
    "    except Exception as e:\n",
    "        print(f\"❌ [{endpoint}] 전체 페이지 수 계산 오류: {e}\")\n",
    "        return -1"
   ]
  },
  {
   "cell_type": "code",
   "execution_count": 45,
   "id": "429b5f81",
   "metadata": {},
   "outputs": [
    {
     "name": "stdout",
     "output_type": "stream",
     "text": [
      "📊 [지하안전평가 리스트] 전체 데이터 수: 2604개 → 총 3 페이지 예상 (페이지당 1000개)\n",
      "📊 [소규모 지하안전평가 리스트] 전체 데이터 수: 5221개 → 총 6 페이지 예상 (페이지당 1000개)\n",
      "📊 [착공 후 지하안전조사 리스트] 전체 데이터 수: 1057개 → 총 2 페이지 예상 (페이지당 1000개)\n",
      "📊 [안전점검대상 지하시설물 리스트] 전체 데이터 수: 6266개 → 총 7 페이지 예상 (페이지당 1000개)\n",
      "📊 [지반침하위험도평가 리스트] 전체 데이터 수: 10개 → 총 1 페이지 예상 (페이지당 1000개)\n",
      "❌ [getPriorityControlTargetList] 전체 페이지 수 계산 오류: 'totalCount'\n",
      "📊 [지반침하사고 리스트] 전체 데이터 수: 1447개 → 총 2 페이지 예상 (페이지당 1000개)\n",
      "📊 [전문기관 리스트] 전체 데이터 수: 394개 → 총 1 페이지 예상 (페이지당 1000개)\n",
      "📊 [지하개발사업 리스트] 전체 데이터 수: 7580개 → 총 8 페이지 예상 (페이지당 1000개)\n"
     ]
    },
    {
     "data": {
      "text/plain": [
       "8"
      ]
     },
     "execution_count": 45,
     "metadata": {},
     "output_type": "execute_result"
    }
   ],
   "source": [
    "# 리스트형 엔드포인트 별 전체 페이지 수 확인 (20000101 ~ 20251231)\n",
    "get_total_pages(\n",
    "    endpoint=\"getImpatEvalutionList\",\n",
    "    params={\"sysRegDateFrom\": \"20000101\", \"sysRegDateTo\": \"20251231\"}\n",
    ")\n",
    "\n",
    "get_total_pages(\n",
    "    endpoint=\"getSmallImpactEvalutionList\",\n",
    "    params={\"sysRegDateFrom\": \"20000101\", \"sysRegDateTo\": \"20251231\"}\n",
    ")\n",
    "\n",
    "get_total_pages(\n",
    "    endpoint=\"getAfterUndergroundSafetyInspectionList\",\n",
    "    params={\"sysRegDateFrom\": \"20000101\", \"sysRegDateTo\": \"20251231\"}\n",
    ")\n",
    "\n",
    "get_total_pages(\n",
    "    endpoint=\"getUndergroundUtilityList\",\n",
    "    params={\"startYmd\": \"20000101\", \"endYmd\": \"20251231\"}\n",
    ")\n",
    "\n",
    "get_total_pages(\n",
    "    endpoint=\"getSubsidenceEvalutionList\",\n",
    "    params={\"startYmd\": \"20000101\", \"endYmd\": \"20251231\"}\n",
    ")\n",
    "\n",
    "get_total_pages(\n",
    "    endpoint=\"getPriorityControlTargetList\",\n",
    "    params={\"heavyYmdFrom\": \"20000101\", \"heavyYmdTo\": \"20251231\"}\n",
    ") # 중점관리대상은 제공 안하는 듯\n",
    "\n",
    "get_total_pages(\n",
    "    endpoint=\"getSubsidenceList\",\n",
    "    params={\"sagoDateFrom\": \"20000101\", \"sagoDateTo\": \"20251231\"}\n",
    ")\n",
    "\n",
    "get_total_pages(\n",
    "    endpoint=\"getProfessionalInstituionList\",\n",
    "    params={\"entryYmdFrom\": \"20000101\", \"entryYmdTo\": \"20251231\"}\n",
    ")\n",
    "\n",
    "get_total_pages(\n",
    "    endpoint=\"getUndergroundDevelopementProjectList\",\n",
    "    params={\"staPlanYmdFrom\": \"20000101\", \"staPlanYmdTo\": \"20251231\"}\n",
    ")"
   ]
  },
  {
   "cell_type": "markdown",
   "id": "24e5c37c",
   "metadata": {},
   "source": [
    "## 자동화"
   ]
  },
  {
   "cell_type": "code",
   "execution_count": 46,
   "id": "22d67b11",
   "metadata": {},
   "outputs": [],
   "source": [
    "import os\n",
    "import math\n",
    "import time\n",
    "import json\n",
    "import requests\n",
    "from tqdm import tqdm\n",
    "\n",
    "SERVICE_KEY = \"48RysNl1ik0Yayfh1ih7lOwKPbSQmus+nhN76dcuw/5LSr4uXnBrSZEPYq5QsUWf/37wyPGCbmOawE5X2mMeBw==\"\n",
    "BASE_URL = \"https://apis.data.go.kr/1611000/undergroundsafetyinfo\"\n",
    "\n",
    "def get_total_pages(endpoint: str, params: dict, rows_per_page: int = 1000) -> int:\n",
    "    full_params = {\n",
    "        \"serviceKey\": SERVICE_KEY,\n",
    "        \"pageNo\": 1,\n",
    "        \"numOfRows\": 1,\n",
    "        \"type\": \"json\"\n",
    "    }\n",
    "    full_params.update(params)\n",
    "\n",
    "    try:\n",
    "        response = requests.get(f\"{BASE_URL}/{endpoint}\", params=full_params)\n",
    "        response.raise_for_status()\n",
    "        data = response.json()\n",
    "        total_count = int(data[\"response\"][\"totalCount\"])\n",
    "        total_pages = math.ceil(total_count / rows_per_page)\n",
    "        print(f\"📊 [{endpoint}] 전체 데이터 수: {total_count}개 → 총 {total_pages} 페이지 예상\")\n",
    "        return total_pages\n",
    "    except Exception as e:\n",
    "        print(f\"❌ [{endpoint}] 전체 페이지 수 계산 오류: {e}\")\n",
    "        return -1\n",
    "\n",
    "def fetch_all_pages(endpoint: str, filename_prefix: str, params: dict, key_path: list):\n",
    "    total_pages = get_total_pages(endpoint, params)\n",
    "    if total_pages <= 0:\n",
    "        return []\n",
    "\n",
    "    all_items = []\n",
    "    os.makedirs(\"Database/openapi\", exist_ok=True)\n",
    "\n",
    "    with tqdm(total=total_pages, desc=f\"📥 {filename_prefix}\", unit=\"page\") as pbar:\n",
    "        for page in range(1, total_pages + 1):\n",
    "            try:\n",
    "                full_params = {\n",
    "                    \"serviceKey\": SERVICE_KEY,\n",
    "                    \"pageNo\": page,\n",
    "                    \"numOfRows\": 1000,\n",
    "                    \"type\": \"json\"\n",
    "                }\n",
    "                full_params.update(params)\n",
    "                response = requests.get(f\"{BASE_URL}/{endpoint}\", params=full_params)\n",
    "                response.raise_for_status()\n",
    "                data = response.json()\n",
    "                items = data\n",
    "                for key in key_path:\n",
    "                    items = items.get(key, [])\n",
    "                if not items:\n",
    "                    break\n",
    "                all_items.extend(items)\n",
    "                pbar.update(1)\n",
    "                time.sleep(0.1)\n",
    "            except Exception as e:\n",
    "                print(f\"❌ 페이지 {page} 요청 실패: {e}\")\n",
    "                break\n",
    "\n",
    "    output_path = f\"Database/openapi/{filename_prefix}_전체.json\"\n",
    "    with open(output_path, \"w\", encoding=\"utf-8\") as f:\n",
    "        json.dump(all_items, f, ensure_ascii=False, indent=2)\n",
    "    print(f\"✅ 전체 저장 완료: {output_path}\")\n",
    "    return all_items"
   ]
  },
  {
   "cell_type": "code",
   "execution_count": 47,
   "id": "3c8ff247",
   "metadata": {},
   "outputs": [
    {
     "name": "stdout",
     "output_type": "stream",
     "text": [
      "📊 [getImpatEvalutionList] 전체 데이터 수: 2604개 → 총 3 페이지 예상\n"
     ]
    },
    {
     "name": "stderr",
     "output_type": "stream",
     "text": [
      "📥 지하안전평가_리스트: 100%|██████████| 3/3 [00:01<00:00,  2.64page/s]\n"
     ]
    },
    {
     "name": "stdout",
     "output_type": "stream",
     "text": [
      "✅ 전체 저장 완료: Database/openapi/지하안전평가_리스트_전체.json\n",
      "📊 [getSmallImpactEvalutionList] 전체 데이터 수: 5221개 → 총 6 페이지 예상\n"
     ]
    },
    {
     "name": "stderr",
     "output_type": "stream",
     "text": [
      "📥 소규모지하안전평가_리스트: 100%|██████████| 6/6 [00:02<00:00,  2.90page/s]\n"
     ]
    },
    {
     "name": "stdout",
     "output_type": "stream",
     "text": [
      "✅ 전체 저장 완료: Database/openapi/소규모지하안전평가_리스트_전체.json\n",
      "📊 [getAfterUndergroundSafetyInspectionList] 전체 데이터 수: 1057개 → 총 2 페이지 예상\n"
     ]
    },
    {
     "name": "stderr",
     "output_type": "stream",
     "text": [
      "📥 착공후지하안전조사_리스트: 100%|██████████| 2/2 [00:00<00:00,  2.88page/s]\n"
     ]
    },
    {
     "name": "stdout",
     "output_type": "stream",
     "text": [
      "✅ 전체 저장 완료: Database/openapi/착공후지하안전조사_리스트_전체.json\n",
      "📊 [getUndergroundUtilityList] 전체 데이터 수: 6266개 → 총 7 페이지 예상\n"
     ]
    },
    {
     "name": "stderr",
     "output_type": "stream",
     "text": [
      "📥 안전점검대상_지하시설물_리스트: 100%|██████████| 7/7 [00:02<00:00,  3.11page/s]\n"
     ]
    },
    {
     "name": "stdout",
     "output_type": "stream",
     "text": [
      "✅ 전체 저장 완료: Database/openapi/안전점검대상_지하시설물_리스트_전체.json\n",
      "📊 [getSubsidenceEvalutionList] 전체 데이터 수: 10개 → 총 1 페이지 예상\n"
     ]
    },
    {
     "name": "stderr",
     "output_type": "stream",
     "text": [
      "📥 지반침하위험도평가_리스트: 100%|██████████| 1/1 [00:00<00:00,  3.91page/s]\n"
     ]
    },
    {
     "name": "stdout",
     "output_type": "stream",
     "text": [
      "✅ 전체 저장 완료: Database/openapi/지반침하위험도평가_리스트_전체.json\n",
      "📊 [getSubsidenceList] 전체 데이터 수: 1447개 → 총 2 페이지 예상\n"
     ]
    },
    {
     "name": "stderr",
     "output_type": "stream",
     "text": [
      "📥 지반침하사고_리스트: 100%|██████████| 2/2 [00:00<00:00,  2.99page/s]\n"
     ]
    },
    {
     "name": "stdout",
     "output_type": "stream",
     "text": [
      "✅ 전체 저장 완료: Database/openapi/지반침하사고_리스트_전체.json\n",
      "📊 [getProfessionalInstituionList] 전체 데이터 수: 394개 → 총 1 페이지 예상\n"
     ]
    },
    {
     "name": "stderr",
     "output_type": "stream",
     "text": [
      "📥 전문기관_리스트: 100%|██████████| 1/1 [00:00<00:00,  4.30page/s]\n"
     ]
    },
    {
     "name": "stdout",
     "output_type": "stream",
     "text": [
      "✅ 전체 저장 완료: Database/openapi/전문기관_리스트_전체.json\n",
      "📊 [getUndergroundDevelopementProjectList] 전체 데이터 수: 7580개 → 총 8 페이지 예상\n"
     ]
    },
    {
     "name": "stderr",
     "output_type": "stream",
     "text": [
      "📥 지하개발사업_리스트: 100%|██████████| 8/8 [00:02<00:00,  2.86page/s]"
     ]
    },
    {
     "name": "stdout",
     "output_type": "stream",
     "text": [
      "✅ 전체 저장 완료: Database/openapi/지하개발사업_리스트_전체.json\n"
     ]
    },
    {
     "name": "stderr",
     "output_type": "stream",
     "text": [
      "\n"
     ]
    }
   ],
   "source": [
    "# 리스트 엔드포인트별 자동 수집 실행\n",
    "tasks = [\n",
    "    {\n",
    "        \"endpoint\": \"getImpatEvalutionList\",\n",
    "        \"filename\": \"지하안전평가_리스트\",\n",
    "        \"params\": {\"sysRegDateFrom\": \"20000101\", \"sysRegDateTo\": \"20251231\"},\n",
    "        \"key_path\": [\"response\", \"body\", \"items\"]\n",
    "    },\n",
    "    {\n",
    "        \"endpoint\": \"getSmallImpactEvalutionList\",\n",
    "        \"filename\": \"소규모지하안전평가_리스트\",\n",
    "        \"params\": {\"sysRegDateFrom\": \"20000101\", \"sysRegDateTo\": \"20251231\"},\n",
    "        \"key_path\": [\"response\", \"body\", \"items\"]\n",
    "    },\n",
    "    {\n",
    "        \"endpoint\": \"getAfterUndergroundSafetyInspectionList\",\n",
    "        \"filename\": \"착공후지하안전조사_리스트\",\n",
    "        \"params\": {\"sysRegDateFrom\": \"20000101\", \"sysRegDateTo\": \"20251231\"},\n",
    "        \"key_path\": [\"response\", \"body\", \"items\"]\n",
    "    },\n",
    "    {\n",
    "        \"endpoint\": \"getUndergroundUtilityList\",\n",
    "        \"filename\": \"안전점검대상_지하시설물_리스트\",\n",
    "        \"params\": {\"startYmd\": \"20000101\", \"endYmd\": \"20251231\"},\n",
    "        \"key_path\": [\"response\", \"body\", \"items\"]\n",
    "    },\n",
    "    {\n",
    "        \"endpoint\": \"getSubsidenceEvalutionList\",\n",
    "        \"filename\": \"지반침하위험도평가_리스트\",\n",
    "        \"params\": {\"startYmd\": \"20000101\", \"endYmd\": \"20251231\"},\n",
    "        \"key_path\": [\"response\", \"body\", \"items\"]\n",
    "    },\n",
    "    {\n",
    "        \"endpoint\": \"getSubsidenceList\",\n",
    "        \"filename\": \"지반침하사고_리스트\",\n",
    "        \"params\": {\"sagoDateFrom\": \"20000101\", \"sagoDateTo\": \"20251231\"},\n",
    "        \"key_path\": [\"response\", \"body\", \"items\"]\n",
    "    },\n",
    "    {\n",
    "        \"endpoint\": \"getProfessionalInstituionList\",\n",
    "        \"filename\": \"전문기관_리스트\",\n",
    "        \"params\": {\"entryYmdFrom\": \"20000101\", \"entryYmdTo\": \"20251231\"},\n",
    "        \"key_path\": [\"response\", \"body\", \"items\"]\n",
    "    },\n",
    "    {\n",
    "        \"endpoint\": \"getUndergroundDevelopementProjectList\",\n",
    "        \"filename\": \"지하개발사업_리스트\",\n",
    "        \"params\": {\"staPlanYmdFrom\": \"20000101\", \"staPlanYmdTo\": \"20251231\"},\n",
    "        \"key_path\": [\"response\", \"body\", \"items\"]\n",
    "    }\n",
    "]\n",
    "\n",
    "# 실행\n",
    "for task in tasks:\n",
    "    fetch_all_pages(\n",
    "        endpoint=task[\"endpoint\"],\n",
    "        filename_prefix=task[\"filename\"],\n",
    "        params=task[\"params\"],\n",
    "        key_path=task[\"key_path\"]\n",
    "    )"
   ]
  },
  {
   "cell_type": "code",
   "execution_count": null,
   "id": "6647fe99",
   "metadata": {},
   "outputs": [],
   "source": []
  }
 ],
 "metadata": {
  "kernelspec": {
   "display_name": "base",
   "language": "python",
   "name": "python3"
  },
  "language_info": {
   "codemirror_mode": {
    "name": "ipython",
    "version": 3
   },
   "file_extension": ".py",
   "mimetype": "text/x-python",
   "name": "python",
   "nbconvert_exporter": "python",
   "pygments_lexer": "ipython3",
   "version": "3.12.2"
  }
 },
 "nbformat": 4,
 "nbformat_minor": 5
}
