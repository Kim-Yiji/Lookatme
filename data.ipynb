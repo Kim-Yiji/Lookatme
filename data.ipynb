{
 "cells": [
  {
   "cell_type": "markdown",
   "id": "0d760ffd",
   "metadata": {},
   "source": [
    "## 공공데이터포털 지하안전 데이터"
   ]
  },
  {
   "cell_type": "code",
   "execution_count": 27,
   "id": "1cbda985",
   "metadata": {},
   "outputs": [],
   "source": [
    "import requests\n",
    "import json\n",
    "\n",
    "SERVICE_KEY = \"48RysNl1ik0Yayfh1ih7lOwKPbSQmus+nhN76dcuw/5LSr4uXnBrSZEPYq5QsUWf/37wyPGCbmOawE5X2mMeBw==\"\n",
    "BASE_URL = \"https://apis.data.go.kr/1611000/undergroundsafetyinfo\"\n",
    "\n",
    "def call_api_to_file(endpoint: str, output_filename: str, custom_params: dict):\n",
    "    params = {\n",
    "        \"serviceKey\": SERVICE_KEY,\n",
    "        \"pageNo\": \"1\",\n",
    "        \"numOfRows\": \"5\",\n",
    "        \"type\": \"json\"\n",
    "    }\n",
    "    params.update(custom_params)\n",
    "    url = f\"{BASE_URL}/{endpoint}\"\n",
    "    try:\n",
    "        response = requests.get(url, params=params)\n",
    "        data = response.json()\n",
    "        with open(f\"Database/openapi/{output_filename}.json\", \"w\", encoding=\"utf-8\") as f:\n",
    "            json.dump(data, f, ensure_ascii=False, indent=2)\n",
    "        return f\"✅ 저장 완료: {output_filename}.json\"\n",
    "    except Exception as e:\n",
    "        return f\"❌ 오류 발생: {e}\""
   ]
  },
  {
   "cell_type": "code",
   "execution_count": 30,
   "id": "a0408217",
   "metadata": {},
   "outputs": [],
   "source": [
    "def get_impat_evaluation_list(start_date: str, end_date: str):\n",
    "    return call_api_to_file(\"getImpatEvalutionList\", \"지하안전평가_리스트\", {\n",
    "        \"sysRegDateFrom\": start_date,\n",
    "        \"sysRegDateTo\": end_date\n",
    "    })\n",
    "\n",
    "def get_small_impat_evaluation_list(start_date: str, end_date: str):\n",
    "    return call_api_to_file(\"getSmallImpactEvalutionList\", \"소규모지하안전평가_리스트\", {\n",
    "        \"sysRegDateFrom\": start_date,\n",
    "        \"sysRegDateTo\": end_date\n",
    "    })\n",
    "\n",
    "def get_post_construction_check_list(start_date: str, end_date: str):\n",
    "    return call_api_to_file(\"getAfterUndergroundSafetyInspectionList\", \"착공후지하안전조사_리스트\", {\n",
    "        \"sysRegDateFrom\": start_date,\n",
    "        \"sysRegDateTo\": end_date\n",
    "    })\n",
    "\n",
    "def get_underground_facility_list(start_ymd: str, end_ymd: str):\n",
    "    return call_api_to_file(\"getUndergroundUtilityList\", \"안전점검대상_지하시설물_리스트\", {\n",
    "        \"startYmd\": start_ymd,\n",
    "        \"endYmd\": end_ymd\n",
    "    })\n",
    "\n",
    "def get_risk_assessment_list(start_ymd: str, end_ymd: str):\n",
    "    return call_api_to_file(\"getSubsidenceEvalutionList\", \"지반침하위험도평가_리스트\", {\n",
    "        \"startYmd\": start_ymd,\n",
    "        \"endYmd\": end_ymd\n",
    "    })\n",
    "\n",
    "def get_priority_control_list(start_date: str, end_date: str):\n",
    "    return call_api_to_file(\"getPriorityControlTargetList\", \"중점관리대상_리스트\", {\n",
    "        \"heavyYmdFrom\": start_date,\n",
    "        \"heavyYmdTo\": end_date\n",
    "    })\n",
    "\n",
    "def get_subsidence_accident_list(start_date: str, end_date: str, lon: str, lat: str, buffer_km: str):\n",
    "    return call_api_to_file(\"getSubsidenceList\", \"지반침하사고_리스트\", {\n",
    "        \"sagoDateFrom\": start_date,\n",
    "        \"sagoDateTo\": end_date,\n",
    "        \"geomLon\": lon,\n",
    "        \"geomLat\": lat,\n",
    "        \"buffer\": buffer_km\n",
    "    })\n",
    "\n",
    "def get_underground_project_list(start_date: str, end_date: str, lon: str, lat: str, buffer_km: str):\n",
    "    return call_api_to_file(\"getUndergroundDevelopementProjectList\", \"지하개발사업_리스트\", {\n",
    "        \"staPlanYmdFrom\": start_date,\n",
    "        \"staPlanYmdTo\": end_date,\n",
    "        \"geomLon\": lon,\n",
    "        \"geomLat\": lat,\n",
    "        \"buffer\": buffer_km\n",
    "    })"
   ]
  },
  {
   "cell_type": "markdown",
   "id": "0b85ad62",
   "metadata": {},
   "source": [
    "## 실행"
   ]
  },
  {
   "cell_type": "code",
   "execution_count": 33,
   "id": "f3ff8677",
   "metadata": {},
   "outputs": [
    {
     "data": {
      "text/plain": [
       "'✅ 저장 완료: 지하개발사업_리스트.json'"
      ]
     },
     "execution_count": 33,
     "metadata": {},
     "output_type": "execute_result"
    }
   ],
   "source": [
    "# 날짜를 지정해서 호출\n",
    "get_impat_evaluation_list(\"20190101\", \"20231231\")\n",
    "get_small_impat_evaluation_list(\"20200101\", \"20231231\")\n",
    "get_post_construction_check_list(\"20200101\", \"20231231\")\n",
    "get_underground_facility_list(\"20180101\", \"20231231\")\n",
    "get_risk_assessment_list(\"20180101\", \"20231231\")\n",
    "get_priority_control_list(\"20180101\", \"20231231\")\n",
    "get_subsidence_accident_list(\"20180101\", \"20231231\", \"126.9780\", \"37.5665\", \"5\")\n",
    "get_underground_project_list(\"20180101\", \"20231231\", \"126.9780\", \"37.5665\", \"5\")"
   ]
  },
  {
   "cell_type": "code",
   "execution_count": null,
   "id": "22d67b11",
   "metadata": {},
   "outputs": [],
   "source": []
  }
 ],
 "metadata": {
  "kernelspec": {
   "display_name": "base",
   "language": "python",
   "name": "python3"
  },
  "language_info": {
   "codemirror_mode": {
    "name": "ipython",
    "version": 3
   },
   "file_extension": ".py",
   "mimetype": "text/x-python",
   "name": "python",
   "nbconvert_exporter": "python",
   "pygments_lexer": "ipython3",
   "version": "3.12.2"
  }
 },
 "nbformat": 4,
 "nbformat_minor": 5
}
